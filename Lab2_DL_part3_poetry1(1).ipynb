{
 "cells": [
  {
   "cell_type": "markdown",
   "metadata": {
    "id": "ASUIwd0aGjcw"
   },
   "source": [
    "## Lab 2"
   ]
  },
  {
   "cell_type": "markdown",
   "metadata": {
    "id": "WB1gAlSOGjcz"
   },
   "source": [
    "### Part 3. Poetry generation\n",
    "\n",
    "Let's try to generate some poetry using RNNs. \n",
    "\n",
    "You have several choices here: \n",
    "\n",
    "* The Shakespeare sonnets, file `sonnets.txt` available in the notebook directory.\n",
    "\n",
    "* Роман в стихах \"Евгений Онегин\" Александра Сергеевича Пушкина. В предобработанном виде доступен по [ссылке](https://github.com/attatrol/data_sources/blob/master/onegin.txt).\n",
    "\n",
    "* Some other text source, if it will be approved by the course staff.\n",
    "\n",
    "Text generation can be designed in several steps:\n",
    "    \n",
    "1. Data loading.\n",
    "2. Dictionary generation.\n",
    "3. Data preprocessing.\n",
    "4. Model (neural network) training.\n",
    "5. Text generation (model evaluation).\n"
   ]
  },
  {
   "cell_type": "code",
   "execution_count": null,
   "metadata": {
    "id": "EAqaUQM9Gjc1"
   },
   "outputs": [],
   "source": [
    "import string\n",
    "import os\n",
    "import numpy as np"
   ]
  },
  {
   "cell_type": "markdown",
   "metadata": {
    "id": "vD0EJkoSGjdA"
   },
   "source": [
    "### Data loading: Shakespeare"
   ]
  },
  {
   "cell_type": "markdown",
   "metadata": {
    "id": "LLqdVIKQGjdD"
   },
   "source": [
    "Shakespeare sonnets are awailable at this [link](http://www.gutenberg.org/ebooks/1041?msg=welcome_stranger). In addition, they are stored in the same directory as this notebook (`sonnetes.txt`). Simple preprocessing is already done for you in the next cell: all technical info is dropped."
   ]
  },
  {
   "cell_type": "code",
   "execution_count": null,
   "metadata": {
    "id": "gbGYVbV-GjdF"
   },
   "outputs": [],
   "source": [
    "if not os.path.exists('sonnets.txt'):\n",
    "    !wget https://raw.githubusercontent.com/girafe-ai/ml-mipt/master/homeworks_basic/Lab2_DL/sonnets.txt\n",
    "\n",
    "with open('sonnets.txt', 'r') as iofile:\n",
    "    text = iofile.readlines()\n",
    "    \n",
    "TEXT_START = 45\n",
    "TEXT_END = -368\n",
    "text = text[TEXT_START : TEXT_END]\n",
    "assert len(text) == 2616"
   ]
  },
  {
   "cell_type": "markdown",
   "metadata": {
    "id": "96qYDzb2GjdN"
   },
   "source": [
    "In opposite to the in-class practice, this time we want to predict complex text. Let's reduce the complexity of the task and lowercase all the symbols.\n",
    "\n",
    "Now variable `text` is a list of strings. Join all the strings into one and lowercase it."
   ]
  },
  {
   "cell_type": "code",
   "execution_count": null,
   "metadata": {
    "colab": {
     "base_uri": "https://localhost:8080/",
     "height": 34
    },
    "id": "yN8pMImgGjdO",
    "outputId": "9defb796-19df-4031-ed3f-6b804d8a2a98"
   },
   "outputs": [
    {
     "name": "stdout",
     "output_type": "stream",
     "text": [
      "OK!\n"
     ]
    }
   ],
   "source": [
    "str = \"\";\n",
    "for i in range(len(text)):\n",
    "    str = str + text[i]\n",
    "\n",
    "text = str.lower()\n",
    "\n",
    "assert len(text) == 100225, 'Are you sure you have concatenated all the strings?'\n",
    "assert not any([x in set(text) for x in string.ascii_uppercase]), 'Uppercase letters are present'\n",
    "print('OK!')"
   ]
  },
  {
   "cell_type": "markdown",
   "metadata": {},
   "source": [
    "### Data loading: \"Евгений Онегин\"\n"
   ]
  },
  {
   "cell_type": "code",
   "execution_count": null,
   "metadata": {
    "colab": {
     "base_uri": "https://localhost:8080/",
     "height": 207
    },
    "id": "wQKnXakf2MK6",
    "outputId": "f844ecac-b3ac-4d8b-b798-13a6ea2e96ec"
   },
   "outputs": [
    {
     "name": "stdout",
     "output_type": "stream",
     "text": [
      "--2020-05-26 11:45:29--  https://raw.githubusercontent.com/attatrol/data_sources/master/onegin.txt\n",
      "Resolving raw.githubusercontent.com (raw.githubusercontent.com)... 151.101.0.133, 151.101.64.133, 151.101.128.133, ...\n",
      "Connecting to raw.githubusercontent.com (raw.githubusercontent.com)|151.101.0.133|:443... connected.\n",
      "HTTP request sent, awaiting response... 200 OK\n",
      "Length: 262521 (256K) [text/plain]\n",
      "Saving to: ‘onegin.txt’\n",
      "\n",
      "\r",
      "onegin.txt            0%[                    ]       0  --.-KB/s               \r",
      "onegin.txt          100%[===================>] 256.37K  --.-KB/s    in 0.05s   \n",
      "\n",
      "2020-05-26 11:45:30 (4.88 MB/s) - ‘onegin.txt’ saved [262521/262521]\n",
      "\n"
     ]
    }
   ],
   "source": [
    "!wget https://raw.githubusercontent.com/attatrol/data_sources/master/onegin.txt\n",
    "    \n",
    "with open('onegin.txt', 'r') as iofile:\n",
    "    text = iofile.readlines()\n",
    "    \n",
    "text = [x.replace('\\t\\t', '') for x in text]"
   ]
  },
  {
   "cell_type": "markdown",
   "metadata": {},
   "source": [
    "In opposite to the in-class practice, this time we want to predict complex text. Let's reduce the complexity of the task and lowercase all the symbols.\n",
    "\n",
    "Now variable `text` is a list of strings. Join all the strings into one and lowercase it."
   ]
  },
  {
   "cell_type": "code",
   "execution_count": null,
   "metadata": {
    "id": "mPFKGVBmvUiQ"
   },
   "outputs": [],
   "source": [
    "tmp = []\n",
    "for i in range(0, len(text)):\n",
    "    tmp.append(text[i].lower())\n",
    "\n",
    "text = tmp"
   ]
  },
  {
   "cell_type": "markdown",
   "metadata": {
    "id": "pKKa-fg4Gjdc"
   },
   "source": [
    "Put all the characters, that you've seen in the text, into variable `tokens`."
   ]
  },
  {
   "cell_type": "code",
   "execution_count": null,
   "metadata": {
    "id": "ahsCSl7cG3r5"
   },
   "outputs": [],
   "source": [
    "import re\n",
    "parts = re.split('\\n\\n\\s*[a-z]*\\n\\n', text)"
   ]
  },
  {
   "cell_type": "code",
   "execution_count": null,
   "metadata": {
    "colab": {
     "base_uri": "https://localhost:8080/",
     "height": 51
    },
    "id": "LOWXbXdLGjdc",
    "outputId": "9ab103b7-0e67-4c2b-a0fd-5249433cba05"
   },
   "outputs": [
    {
     "name": "stdout",
     "output_type": "stream",
     "text": [
      "['\\n', ' ', '!', \"'\", '(', ')', ',', '-', '.', ':', ';', '?', 'a', 'b', 'c', 'd', 'e', 'f', 'g', 'h', 'i', 'j', 'k', 'l', 'm', 'n', 'o', 'p', 'q', 'r', 's', 't', 'u', 'v', 'w', 'x', 'y', 'z']\n",
      "38\n"
     ]
    }
   ],
   "source": [
    "tokens = sorted(set(text))\n",
    "print(tokens)\n",
    "\n",
    "print(len(tokens))"
   ]
  },
  {
   "cell_type": "markdown",
   "metadata": {
    "id": "OblvmWfqGjde"
   },
   "source": [
    "Create dictionary `token_to_idx = {<char>: <index>}` and dictionary `idx_to_token = {<index>: <char>}`"
   ]
  },
  {
   "cell_type": "code",
   "execution_count": null,
   "metadata": {
    "id": "tX4_HRytGjdf"
   },
   "outputs": [],
   "source": [
    "token_to_idx = {}\n",
    "idx_to_token = {}\n",
    "\n",
    "for i in range(len(tokens)):\n",
    "    token_to_idx[tokens[i]] = i;\n",
    "    idx_to_token[i] = tokens[i];\n",
    "    \n",
    "num_tokens = len(tokens)"
   ]
  },
  {
   "cell_type": "markdown",
   "metadata": {
    "id": "GP4yrRXhGjdi"
   },
   "source": [
    "*Comment: in this task we have only 38 different tokens, so let's use one-hot encoding.*"
   ]
  },
  {
   "cell_type": "code",
   "execution_count": null,
   "metadata": {
    "id": "MXJs-QVApAil"
   },
   "outputs": [],
   "source": [
    "def to_matrix(parts, max_len=None, pad=token_to_idx[' '], dtype='int32', batch_first = True):\n",
    "    max_len = max_len or max(map(len, parts))\n",
    "    parts_ix = np.zeros([len(parts), max_len], dtype) + pad\n",
    "\n",
    "    for i in range(len(parts)):\n",
    "        line_ix = [token_to_idx[c] for c in parts[i]]\n",
    "        parts_ix[i, :len(line_ix)] = line_ix\n",
    "        \n",
    "    if not batch_first:\n",
    "        parts_ix = np.transpose(names_ix)\n",
    "\n",
    "    return parts_ix"
   ]
  },
  {
   "cell_type": "code",
   "execution_count": null,
   "metadata": {
    "colab": {
     "base_uri": "https://localhost:8080/",
     "height": 103
    },
    "id": "ILke-7NbpBWY",
    "outputId": "a27a084e-ee3b-4351-f0ed-37c14c9a005b"
   },
   "outputs": [
    {
     "name": "stdout",
     "output_type": "stream",
     "text": [
      "[[ 1  1 17 ...  1  1  1]\n",
      " [ 1  1 34 ... 23 15  8]\n",
      " [ 1  1 23 ...  1  1  1]\n",
      " [ 1  1 32 ...  1  1  1]\n",
      " [ 1  1 31 ...  1  1  1]]\n"
     ]
    }
   ],
   "source": [
    "batch_ix = to_matrix(parts[:5])\n",
    "print(batch_ix)"
   ]
  },
  {
   "cell_type": "markdown",
   "metadata": {
    "id": "jKD533AZGjdi"
   },
   "source": [
    "### Building the model"
   ]
  },
  {
   "cell_type": "markdown",
   "metadata": {
    "id": "JylAZAn3Gjdi"
   },
   "source": [
    "Now we want to build and train recurrent neural net which would be able to something similar to Shakespeare's poetry.\n",
    "\n",
    "Let's use vanilla RNN, similar to the one created during the lesson."
   ]
  },
  {
   "cell_type": "code",
   "execution_count": null,
   "metadata": {
    "id": "ZLkbzXlbIcF5"
   },
   "outputs": [],
   "source": [
    "import torch, torch.nn as nn\n",
    "import torch.nn.functional as F\n",
    "import numpy as np\n",
    "import matplotlib.pyplot as plt\n",
    "%matplotlib inline\n",
    "import os"
   ]
  },
  {
   "cell_type": "code",
   "execution_count": null,
   "metadata": {
    "id": "O_PNTlQRIcUh"
   },
   "outputs": [],
   "source": [
    "class CharRNNCell(nn.Module):\n",
    "    def __init__(self, num_tokens=len(tokens), embedding_size=16, rnn_num_units=64):\n",
    "        super(self.__class__,self).__init__()\n",
    "        self.num_units = rnn_num_units\n",
    "        \n",
    "        self.embedding = nn.Embedding(num_tokens, embedding_size)\n",
    "        self.rnn_update = nn.Linear(embedding_size + rnn_num_units, rnn_num_units)\n",
    "        self.rnn_to_logits = nn.Linear(rnn_num_units, num_tokens)\n",
    "        \n",
    "    def forward(self, x, h_prev):\n",
    "        x_emb = self.embedding(x)\n",
    "        \n",
    "        x_and_h = torch.cat([x_emb, h_prev], dim=1)\n",
    "        h_next = self.rnn_update(x_and_h)\n",
    "        \n",
    "        h_next = torch.tanh(h_next)\n",
    "      \n",
    "        logits = self.rnn_to_logits(h_next)\n",
    "        \n",
    "        return h_next, F.log_softmax(logits, -1)\n",
    "    \n",
    "    def initial_state(self, batch_size):\n",
    "        return torch.zeros(batch_size, self.num_units, requires_grad=True)"
   ]
  },
  {
   "cell_type": "code",
   "execution_count": null,
   "metadata": {
    "id": "A0zofb5bIccj"
   },
   "outputs": [],
   "source": [
    "char_rnn = CharRNNCell()\n",
    "criterion = nn.NLLLoss()"
   ]
  },
  {
   "cell_type": "code",
   "execution_count": null,
   "metadata": {
    "id": "ACtor2wIIcmy"
   },
   "outputs": [],
   "source": [
    "def rnn_loop(char_rnn, batch_ix):\n",
    "    batch_size, max_length = batch_ix.size()\n",
    "    hid_state = char_rnn.initial_state(batch_size)\n",
    "    logprobs = []\n",
    "\n",
    "    for x_t in batch_ix.transpose(0,1):\n",
    "        hid_state, logp_next = char_rnn(x_t, hid_state)  # <-- here we call your one-step code\n",
    "        logprobs.append(logp_next)\n",
    "        \n",
    "    return torch.stack(logprobs, dim=1)"
   ]
  },
  {
   "cell_type": "markdown",
   "metadata": {},
   "source": [
    "Plot the loss function (axis X: number of epochs, axis Y: loss function)."
   ]
  },
  {
   "cell_type": "code",
   "execution_count": null,
   "metadata": {
    "id": "PzRtbwQEpSbH"
   },
   "outputs": [],
   "source": [
    "from IPython.display import clear_output\n",
    "from random import sample\n",
    "import time"
   ]
  },
  {
   "cell_type": "code",
   "execution_count": null,
   "metadata": {
    "id": "LVz4RJiTJWSF"
   },
   "outputs": [],
   "source": [
    "char_rnn = CharRNNCell()\n",
    "criterion = nn.NLLLoss()\n",
    "opt = torch.optim.Adam(char_rnn.parameters())\n",
    "history = []"
   ]
  },
  {
   "cell_type": "code",
   "execution_count": null,
   "metadata": {
    "colab": {
     "base_uri": "https://localhost:8080/",
     "height": 265
    },
    "id": "slx6eOkQJaap",
    "outputId": "5065121f-b0c4-47fe-acf0-874e67428d24"
   },
   "outputs": [
    {
     "data": {
      "image/png": "[encoded data removed]",
      "text/plain": [
       "<Figure size 432x288 with 1 Axes>"
      ]
     },
     "metadata": {
      "needs_background": "light",
      "tags": []
     },
     "output_type": "display_data"
    }
   ],
   "source": [
    "for i in range(1000):\n",
    "    batch_ix = to_matrix(sample(parts, 2))\n",
    "    batch_ix = torch.tensor(batch_ix, dtype=torch.int64)\n",
    "    \n",
    "    logp_seq = rnn_loop(char_rnn, batch_ix)\n",
    "    \n",
    "    # compute loss\n",
    "    predictions_logp = logp_seq[:, :-1]\n",
    "    actual_next_tokens = batch_ix[:, 1:]\n",
    "\n",
    "    loss = criterion(\n",
    "        predictions_logp.contiguous().view(-1, num_tokens),\n",
    "        actual_next_tokens.contiguous().view(-1)\n",
    "    )\n",
    "\n",
    "    loss.backward()\n",
    "    opt.step()\n",
    "    opt.zero_grad()\n",
    "    \n",
    "    history.append(loss.data.numpy())\n",
    "    if (i+1)%100==0:\n",
    "        clear_output(True)\n",
    "        plt.plot(history,label='loss')\n",
    "        plt.legend()\n",
    "        plt.show()\n",
    "    \n",
    "\n",
    "assert np.mean(history[:10]) > np.mean(history[-10:]), \"RNN didn't converge.\""
   ]
  },
  {
   "cell_type": "code",
   "execution_count": null,
   "metadata": {
    "id": "8c79czFiJaiB"
   },
   "outputs": [],
   "source": [
    "MAX_LENGTH = 1000"
   ]
  },
  {
   "cell_type": "code",
   "execution_count": null,
   "metadata": {
    "id": "Vo1A5SWwJap8"
   },
   "outputs": [],
   "source": [
    "def generate_sample(char_rnn, seed_phrase=' Hello', max_length=MAX_LENGTH, temperature=1.0):\n",
    "    '''\n",
    "    ### Disclaimer: this is an example function for text generation.\n",
    "    ### You can either adapt it in your code or create your own function\n",
    "    \n",
    "    The function generates text given a phrase of length at least SEQ_LENGTH.\n",
    "    :param seed_phrase: prefix characters. The RNN is asked to continue the phrase\n",
    "    :param max_length: maximum output length, including seed_phrase\n",
    "    :param temperature: coefficient for sampling.  higher temperature produces more chaotic outputs, \n",
    "        smaller temperature converges to the single most likely output.\n",
    "        \n",
    "    Be careful with the model output. This model waits logits (not probabilities/log-probabilities)\n",
    "    of the next symbol.\n",
    "    '''\n",
    "    \n",
    "    x_sequence = [token_to_id[token] for token in seed_phrase]\n",
    "    x_sequence = torch.tensor([[x_sequence]], dtype=torch.int64)\n",
    "    hid_state = char_rnn.initial_state(batch_size=1)\n",
    "    \n",
    "    #feed the seed phrase, if any\n",
    "    for i in range(len(seed_phrase) - 1):\n",
    "        print(x_sequence[:, -1].shape, hid_state.shape)\n",
    "        out, hid_state = char_rnn(x_sequence[:, i], hid_state)\n",
    "    \n",
    "    #start generating\n",
    "    for _ in range(max_length - len(seed_phrase)):\n",
    "        print(x_sequence.shape, x_sequence, hid_state.shape)\n",
    "        out, hid_state = char_rnn(x_sequence[:, -1], hid_state)\n",
    "        # Be really careful here with the model output\n",
    "        p_next = F.softmax(out / temperature, dim=-1).data.numpy()[0]\n",
    "        \n",
    "        # sample next token and push it back into x_sequence\n",
    "        print(p_next.shape, len(tokens))\n",
    "        next_ix = np.random.choice(len(tokens), p=p_next)\n",
    "        next_ix = torch.tensor([[next_ix]], dtype=torch.int64)\n",
    "        print(x_sequence.shape, next_ix.shape)\n",
    "        x_sequence = torch.cat([x_sequence, next_ix], dim=1)\n",
    "        \n",
    "    return ''.join([tokens[ix] for ix in x_sequence.data.numpy()[0]])"
   ]
  },
  {
   "cell_type": "code",
   "execution_count": null,
   "metadata": {
    "colab": {
     "base_uri": "https://localhost:8080/",
     "height": 1000
    },
    "id": "EcN_DgIyJWZQ",
    "outputId": "24477628-7508-4d27-ece8-1714ab9ce5dc"
   },
   "outputs": [
    {
     "name": "stdout",
     "output_type": "stream",
     "text": [
      "when,\n",
      "  that shou ler, not that wild yound of theb manon cumbll our andnes i lit thy ap on and the stith, agant wily wore mine ove of wace pell i have of i   is thy mive plete trem and thou mat wo meauturss mast owe tho stou beright thom all, mare,\n",
      "  on my mair dilferen treft ow thou peisfond be thew my sederen grapy,\n",
      "  fon apon to moll ppere im qeaed tient;\n",
      "  thll aut woufes     rath rape of andrens astet fyat sume cosk endellon fme pold yis stalf sume thy be love wimed.\n",
      "  shit prele,\n",
      "  worth\n",
      "  the othse to demine of thy mesppraigt;\n",
      "  math sisteich thouls trit the  do maktis thy store that reirt gnale hould yar cains anjend a lose, wout'd with serthon soous cowlon\n",
      "  bree berape, shem  to mose which thou and on the pedadie thee that bete owe,\n",
      "    an for prave, whame,\n",
      "  and thee of my my my least so pperstilt all, than hat me thin ono, and the so of that shad donder tore and the hath eaclire hare campy coce doth my houst,\n",
      "  the ppon for eloves bredsrt's and maen i hove the tine gor the \n",
      "\n",
      "\n",
      "\n",
      "when seaut, and and prave,\n",
      "  whe in werice base thy sadare sies my sout sorghing put thou loth;\n",
      "  and delf the ise, so yele my all me to the bentary thee pall this my nover chive i heare thon fald's   for and my sewsill thee weat;\n",
      "  grot thou art thou doth boove that is that wich in the me must.\n",
      "  lork with in wor as my refenes,\n",
      "  the pright my corope thing bes then thin thet love wort, that in ttey so cares my sace a sofpine evee,\n",
      "  a!hthe are i hey bumbelter bey, swecix, om love of to wot'd deed thee wind wid thing hource beartuons as a my swanse sart ily deareind of soth bes:\n",
      "  and thou wor py hore, and in i leas'd donttor than to mert it that thee with on some pure,\n",
      "  to tha espere wrintull to more relting thou thou hour see fom oft lath sweer sontiir their in, trou the tansure sweer dost the ow wilf of live of ryersse.\n",
      "      a spive.                                                                                                                                                      \n",
      "\n",
      "\n",
      "\n",
      "when desb'et to but highe,\n",
      "  and wompi, lose wecoune,\n",
      "    thing,\n",
      "  thioss fare thou waty enkess agpe, a deouldgef of deadnds so ueds of aimers thoun fan the that of me love by liver'd is is mine worll ringrt you grendens thou 'owarn of ast tho! what i in i tore, thou fort, as aighe! court ate i trane i hear,\n",
      "  wheed cove,\n",
      "  on thou k thas dich tith to the enering ap foul holli.\n",
      "  wo sues swort\n",
      "  be than uutert of fars, ma,\n",
      "  that in beade have shat of the stagt me wart prath sut trig in thou thou dimrend,\n",
      "  for heved rralf-hey browh prith he -ofmit, hame me foly to  or andury and prow?\n",
      "  so frens'st then to say his monder yim tith thy prall seges,\n",
      "  but the bott he rils,\n",
      "  then prame wrome, and thas and walf my mea downed the thee rist suputer thia sees.                                                                                                                                                                                                                                            \n",
      "\n",
      "\n",
      "\n",
      "when,\n",
      "      and beaude viath on theis oncore thy tovening cing,\n",
      "  ors five aray thee made these, so whuth of mait'd doar'd whory realligh sweet me with you has ie wided aby mo!lt and pince thour aly hene ther shand by slede.\n",
      "    berer seanes\n",
      "  unce in to nave thtanlond by bore men thy love the of hand colo! that but tut,\n",
      "  whimes he mist's thee perll'd lovefurret thee the last wastis puinen thy seand,\n",
      "    heen soess my prace the land i for to gand,\n",
      "  all cint;\n",
      "    whem\n",
      "  and this for whine fare sroud;\n",
      "  of that moke peather will bude the dorght entearkn sae seat aser the roalt time, and to lestrigh muuptting orsured thus medes to brennt,\n",
      "  when me ethad thine do reslle my mowh\n",
      "  and in muth that wich thy shenepine heller\n",
      "  that thou and leees curt goirt.\n",
      "  tive  my lith ond to lat for thou the wing the cor\n",
      "  meknter whife, wins to loves llave that fount the when my shar lere,\n",
      "  muthowengugs dearun an this makes have me fore, and i sine sar in the maol, wor bades one fay so you dath the\n",
      "\n",
      "\n",
      "\n"
     ]
    }
   ],
   "source": [
    "for _ in range(4):\n",
    "    print(generate_sample(char_rnn, \"when\", temperature=0.8))\n",
    "    print('\\n\\n')"
   ]
  },
  {
   "cell_type": "markdown",
   "metadata": {
    "id": "4M1CBKH6qLR9"
   },
   "source": [
    "Получился текст, весьма осмысленный в некотором смысле. Моя модель научилась расставлять запятые и делать адекватные соннеты. Однако, моделе не хватает словарного запаса."
   ]
  },
  {
   "cell_type": "markdown",
   "metadata": {
    "id": "khO_HRLEGjdr"
   },
   "source": [
    "### More poetic model\n",
    "\n",
    "Let's use LSTM instead of vanilla RNN and compare the results."
   ]
  },
  {
   "cell_type": "code",
   "execution_count": null,
   "metadata": {
    "id": "i096FeSkwfiV"
   },
   "outputs": [],
   "source": [
    "rimlian_nums = ['i', 'ii', 'iii', 'il', 'v', 'iv', 'l', 'li', 'lii', 'liii', 'liv', 'lv', 'lvi', 'lvii', 'lviii', 'x', 'xi', 'xii', 'xiii', 'xiv', 'xix', 'xl', 'xli', 'xlii', 'xliii', 'xliv', 'xlix', 'xlv', 'xlvi', 'xlvii', 'xlviii', 'xv', 'xvi', 'xvii', 'xviii', 'xx', 'xxi', 'xxii', 'xxiii', 'xxiv', 'xxix', 'xxv', 'xxvi', 'xxvii', 'xxviii', 'xxx', 'xxxi', 'xxxii', 'xxxiii', 'xxxiv', 'xxxix', 'xxxv', 'xxxvi', 'xxxvii', 'xxxviii']"
   ]
  },
  {
   "cell_type": "markdown",
   "metadata": {
    "id": "Klw382MmwjD9"
   },
   "source": [
    "Римские цифры набирала не вручную, а просто скопировала из токенов"
   ]
  },
  {
   "cell_type": "code",
   "execution_count": null,
   "metadata": {
    "id": "fClrFoRuvUk-"
   },
   "outputs": [],
   "source": [
    "tmp = []\n",
    "for i in range(0, len(text)):\n",
    "    out = text[i]\n",
    "\n",
    "    out = out.replace('(', ' ').replace(')', ' ').replace('77', ' ').replace('78', ' ').replace('79', ' ')\n",
    "    out = out.replace(';', ' ').replace('«', ' ').replace('»', ' ')\n",
    "    out = out.replace('!', ' ').replace('?', ' ').replace(':', ' ')\n",
    "    out = out.replace('-', ' ').replace('[', ' ').replace(']', ' ') \n",
    "\n",
    "    for t in rimlian_nums:\n",
    "        out = out.replace(t, ' ')\n",
    "\n",
    "    tmp.append(out)\n",
    "\n",
    "text = tmp"
   ]
  },
  {
   "cell_type": "code",
   "execution_count": null,
   "metadata": {
    "id": "6VdHdMjiAEVY"
   },
   "outputs": [],
   "source": [
    "tmp = []\n",
    "for i in range(0, len(text)):\n",
    "    out = text[i]\n",
    "    if out[0] != '\\n':\n",
    "        tmp.append(out)\n",
    "\n",
    "print(text)"
   ]
  },
  {
   "cell_type": "code",
   "execution_count": null,
   "metadata": {
    "id": "-GhrVv_Ux9aE"
   },
   "outputs": [],
   "source": [
    "punkt = []\n",
    "punkt.append('.')\n",
    "punkt.append(',')\n",
    "#punkt.append(' ')"
   ]
  },
  {
   "cell_type": "code",
   "execution_count": null,
   "metadata": {
    "id": "l5MsilwbvUnm"
   },
   "outputs": [],
   "source": [
    "tmp = []\n",
    "for i in range(0, len(text)-2):\n",
    "    out = text[i]\n",
    "    out = out[0:(len(out)-1)]\n",
    "    for i in range(0, len(out)):\n",
    "        if len(out) == 1:\n",
    "            break\n",
    "        for j in punkt:\n",
    "            if j == out[i]:\n",
    "                if i != 1 and out[i-1] == ' ':\n",
    "                    continue\n",
    "                out = out[:i] + \" \" + out[i:]\n",
    "                i -= 1\n",
    "\n",
    "    out = out + \" \" + \"\\n\"\n",
    "\n",
    "    tmp.append(out)\n",
    "\n",
    "text = tmp\n"
   ]
  },
  {
   "cell_type": "code",
   "execution_count": null,
   "metadata": {
    "colab": {
     "base_uri": "https://localhost:8080/",
     "height": 282
    },
    "id": "OPNrHFZU7ahX",
    "outputId": "ebdae3b5-7ba4-4fd3-986b-d8fa286a940b"
   },
   "outputs": [
    {
     "name": "stdout",
     "output_type": "stream",
     "text": [
      "max length = 160\n"
     ]
    },
    {
     "data": {
      "image/png": "[encoded data removed]",
      "text/plain": [
       "<Figure size 432x288 with 1 Axes>"
      ]
     },
     "metadata": {
      "needs_background": "light",
      "tags": []
     },
     "output_type": "display_data"
    }
   ],
   "source": [
    "import matplotlib.pyplot as plt\n",
    "\n",
    "MAX_LENGTH = max(map(len, text))\n",
    "print(\"max length =\", MAX_LENGTH)\n",
    "\n",
    "plt.hist(list(map(len, text)),bins=50);"
   ]
  },
  {
   "cell_type": "markdown",
   "metadata": {
    "id": "oxEn5er97ahd"
   },
   "source": [
    "Удалим предложения с длинной больше чем 40, та как такие предложения редко встречаются. "
   ]
  },
  {
   "cell_type": "code",
   "execution_count": null,
   "metadata": {
    "id": "VIZeW_gw7ahd"
   },
   "outputs": [],
   "source": [
    "tmp = []\n",
    "for i in range(0, len(text)):\n",
    "    if len(text[i]) < 40:\n",
    "        tmp.append(text[i])\n",
    "\n",
    "text = tmp  "
   ]
  },
  {
   "cell_type": "code",
   "execution_count": null,
   "metadata": {
    "colab": {
     "base_uri": "https://localhost:8080/",
     "height": 282
    },
    "id": "2YDHuVP57ahf",
    "outputId": "1450a184-966e-4647-d67e-6bc09835d157"
   },
   "outputs": [
    {
     "name": "stdout",
     "output_type": "stream",
     "text": [
      "max length = 39\n"
     ]
    },
    {
     "data": {
      "image/png": "[encoded data removed]",
      "text/plain": [
       "<Figure size 432x288 with 1 Axes>"
      ]
     },
     "metadata": {
      "needs_background": "light",
      "tags": []
     },
     "output_type": "display_data"
    }
   ],
   "source": [
    "MAX_LENGTH = max(map(len, text))\n",
    "print(\"max length =\", MAX_LENGTH)\n",
    "\n",
    "plt.hist(list(map(len, text)),bins=20);"
   ]
  },
  {
   "cell_type": "code",
   "execution_count": null,
   "metadata": {
    "id": "SB7voPxJ2Q9_"
   },
   "outputs": [],
   "source": [
    "str = \"\";\n",
    "for i in range(len(text)):\n",
    "    str = str + text[i]\n",
    "\n",
    "out = str.lower()"
   ]
  },
  {
   "cell_type": "code",
   "execution_count": null,
   "metadata": {
    "id": "_gPLBq8PXSaU"
   },
   "outputs": [],
   "source": [
    "x = out.split()"
   ]
  },
  {
   "cell_type": "code",
   "execution_count": null,
   "metadata": {
    "id": "KNAuT9YOXSX7"
   },
   "outputs": [],
   "source": [
    "tokens = sorted(set(x))\n",
    "\n",
    "\n",
    "tokens.append('\\n')\n",
    "tokens.append(' ')\n",
    "\n",
    "print(len(tokens))"
   ]
  },
  {
   "cell_type": "code",
   "execution_count": null,
   "metadata": {
    "id": "4BRabAMVe9Nu"
   },
   "outputs": [],
   "source": [
    "token_to_idx = {}\n",
    "idx_to_token = {}\n",
    "\n",
    "for i in range(len(tokens)):\n",
    "    token_to_idx[tokens[i]] = i;\n",
    "    idx_to_token[i] = tokens[i];"
   ]
  },
  {
   "cell_type": "code",
   "execution_count": null,
   "metadata": {
    "id": "GQBWqjGyic0P"
   },
   "outputs": [],
   "source": [
    "def to_matrix(str, max_len=None, pad=token_to_idx[' '], dtype='int32', batch_first = True):\n",
    "    \"\"\"Casts a list of str into rnn-digestable matrix\"\"\"\n",
    "    \n",
    "    names_ix = np.zeros([len(str), max_len], dtype) + pad\n",
    "    for i in range(0, len(str)):\n",
    "        names_ix[i][max_len-1] = token_to_idx['\\n']\n",
    "    \n",
    "    for i in range(len(str)):\n",
    "        inp = str[i]\n",
    "        inp = inp.split()\n",
    "        tmp = []\n",
    "        for j in range(len(inp)):\n",
    "            line_ix = [token_to_idx[c] for c in inp]\n",
    "            names_ix[i, :len(line_ix)] = line_ix\n",
    "        \n",
    "    if not batch_first:\n",
    "        names_ix = np.transpose(names_ix)\n",
    "\n",
    "    return names_ix"
   ]
  },
  {
   "cell_type": "code",
   "execution_count": null,
   "metadata": {
    "id": "DMCC3bluTWLg"
   },
   "outputs": [],
   "source": [
    "class CharRNNLoop(nn.Module):\n",
    "    def __init__(self, num_tokens=len(tokens), emb_size=16, rnn_num_units=64):\n",
    "        super(self.__class__, self).__init__()\n",
    "        self.emb = nn.Embedding(len(tokens), emb_size)\n",
    "        self.rnn = nn.LSTM(emb_size, rnn_num_units, batch_first=True)\n",
    "        self.hid_to_logits = nn.Linear(rnn_num_units, len(tokens))\n",
    "        \n",
    "    def forward(self, x):\n",
    "        assert isinstance(x.data, torch.LongTensor)\n",
    "        h_seq, _ = self.rnn(self.emb(x))\n",
    "        next_logits = self.hid_to_logits(h_seq)\n",
    "        next_logp = F.log_softmax(next_logits, dim=-1)\n",
    "        return next_logp"
   ]
  },
  {
   "cell_type": "code",
   "execution_count": null,
   "metadata": {
    "id": "U_6ONwmNTmjA"
   },
   "outputs": [],
   "source": [
    "model = CharRNNLoop()\n",
    "opt = torch.optim.Adam(model.parameters())\n",
    "history = []"
   ]
  },
  {
   "cell_type": "code",
   "execution_count": null,
   "metadata": {
    "colab": {
     "base_uri": "https://localhost:8080/",
     "height": 265
    },
    "id": "M6-IHImMTmra",
    "outputId": "6f3fd0f1-405e-4348-ac4a-78f99b96b27c"
   },
   "outputs": [
    {
     "data": {
      "image/png": "[encoded data removed]",
      "text/plain": [
       "<Figure size 432x288 with 1 Axes>"
      ]
     },
     "metadata": {
      "needs_background": "light",
      "tags": []
     },
     "output_type": "display_data"
    }
   ],
   "source": [
    "MAX_LENGTH = 16\n",
    "\n",
    "for i in range(1000):\n",
    "    batch_ix = to_matrix(sample(text, 32), max_len=MAX_LENGTH)\n",
    "    batch_ix = torch.tensor(batch_ix, dtype=torch.int64)\n",
    "    \n",
    "    logp_seq = model(batch_ix)\n",
    "    predictions_logp = logp_seq[:, :-1]\n",
    "    actual_next_tokens = batch_ix[:, 1:]\n",
    "\n",
    "    loss = criterion(\n",
    "        predictions_logp.contiguous().view(-1, len(tokens)),\n",
    "        actual_next_tokens.contiguous().view(-1)\n",
    "    )\n",
    "\n",
    "    loss.backward()\n",
    "    opt.step()\n",
    "    opt.zero_grad()\n",
    "    \n",
    "    history.append(loss.data.numpy())\n",
    "    if (i+1)%100==0:\n",
    "        clear_output(True)\n",
    "        plt.plot(history,label='loss')\n",
    "        plt.legend()\n",
    "        plt.show()\n",
    "\n",
    "assert np.mean(history[:10]) > np.mean(history[-10:]), \"RNN didn't converge.\""
   ]
  },
  {
   "cell_type": "code",
   "execution_count": null,
   "metadata": {
    "id": "tihpwFvXTmwz"
   },
   "outputs": [],
   "source": [
    "def generate_sample(char_rnn, seed_phrase=' ', max_length=MAX_LENGTH, temperature=1.0):\n",
    "    #seed_phrase = seed_phrase.split(' ')\n",
    "    x_sequence = [token_to_idx[token] for token in seed_phrase]\n",
    "    x_sequence = torch.tensor([x_sequence], dtype=torch.int64)\n",
    "    \n",
    "    for _ in range(max_length - len(seed_phrase)):\n",
    "        logp_next = char_rnn(x_sequence[:, None,-1,])\n",
    "        p_next = F.softmax(logp_next / temperature, dim=-1).data.numpy()[0]\n",
    "\n",
    "        next_ix = np.random.choice(len(tokens),p=p_next[0])\n",
    "        next_ix = torch.tensor([[next_ix]], dtype=torch.int64)\n",
    "        x_sequence = torch.cat([x_sequence, next_ix], dim=1)\n",
    "        \n",
    "    return ''.join([tokens[ix] + ' ' for ix in x_sequence.data.numpy()[0]]) "
   ]
  },
  {
   "cell_type": "code",
   "execution_count": null,
   "metadata": {
    "colab": {
     "base_uri": "https://localhost:8080/",
     "height": 189
    },
    "id": "EthZYi9hTmu6",
    "outputId": "ead22e34-53aa-44b0-a189-90d14b522b0d"
   },
   "outputs": [
    {
     "name": "stdout",
     "output_type": "stream",
     "text": [
      "  пышный оли нравилась… рак \n",
      "  клавикорды ступить изумленьем двоюродный \n",
      "  находила начала благословить величавый \n",
      "  мадригальных косматой мельницу луг \n",
      "  подвинь смятом скорей граненый \n",
      "  утраты самое ступает молчанье \n",
      "  скоро любовь, скончался углублен \n",
      "  пустой. мглу молвь мысль \n",
      "  встретить северное бранит зарецкий \n",
      "  тройке трачу бьются взываю \n"
     ]
    }
   ],
   "source": [
    "for _ in range(10):\n",
    "    print(generate_sample(model, temperature=3, max_length=5))"
   ]
  },
  {
   "cell_type": "markdown",
   "metadata": {},
   "source": [
    "Generate text using the trained net with different `temperature` parameter: `[0.1, 0.2, 0.5, 1.0, 2.0]`.\n",
    "\n",
    "Evaluate the results visually, try to interpret them."
   ]
  },
  {
   "cell_type": "code",
   "execution_count": null,
   "metadata": {
    "colab": {
     "base_uri": "https://localhost:8080/",
     "height": 1000
    },
    "id": "TQt6njit6cQ9",
    "outputId": "eb8c3afe-65fc-415c-bef4-4f6a32a118fc"
   },
   "outputs": [
    {
     "name": "stdout",
     "output_type": "stream",
     "text": [
      "Temperature:  0.1\n",
      "            \n",
      "            \n",
      "            \n",
      "            \n",
      "            \n",
      "            \n",
      "            \n",
      "            \n",
      "            \n",
      "            \n",
      "\n",
      "\n",
      "Temperature:  0.2\n",
      "            \n",
      "            \n",
      "            \n",
      "      \n",
      "   \n",
      " \n",
      "            \n",
      "          \n",
      " \n",
      "            \n",
      "    \n",
      " и , , \n",
      "            \n",
      "            \n",
      "\n",
      "\n",
      "Temperature:  0.5\n",
      "  \n",
      " мир мой всечасно в \n",
      "        \n",
      " может \n",
      "          \n",
      " \n",
      "  \n",
      " где целыми евгенья бурных \n",
      "      \n",
      " в ново \n",
      "  \n",
      " ученым улыбки черти плеча… \n",
      "  \n",
      " томленье , где желал \n",
      "  \n",
      " в чертог   \n",
      " \n",
      "    \n",
      " страстью угас , \n",
      "            \n",
      "\n",
      "\n",
      "Temperature:  1.0\n",
      "  одна был мощны подушкою вспыхнул \n",
      "  вновь том постеле журналы, тазы \n",
      "    ленского друга охнет дианы \n",
      "  , te^te себялюбивой   . \n",
      "    \n",
      " дев повернула онегина \n",
      "  ногти лицами подшутил трещат думал \n",
      "  \n",
      " эти мечтательницы удовольствием требуют \n",
      "  сук открыла младое очарован томною \n",
      "      торжественные приходит прелестных \n",
      "  \n",
      " всё она томил упрямые \n",
      "\n",
      "\n",
      "Temperature:  2.0\n",
      "  начитаться приветствий злую вырваться ощущений \n",
      "  замечает угрозы, новых поклонников ласковых \n",
      "  рисует филлиду стороне, избави соседке \n",
      "  ноги. полку усы поспорить новый \n",
      "  перевести таинственной куда все которая \n",
      "  покров искусства, монастыри, начитаться вечер \n",
      "  дани звучат плещут ободренный легковерным \n",
      "  задержала привыкшей именем рода тайной \n",
      "  единой то стихов мой, расин, \n",
      "  гарольдом становятся тусклых калмыцкого циклопы \n",
      "\n",
      "\n"
     ]
    }
   ],
   "source": [
    "temperatura = [0.1, 0.2, 0.5, 1.0, 2.0]\n",
    "\n",
    "for i in range(0, len(temperatura)):\n",
    "    print(\"Temperature: \", temperatura[i])\n",
    "\n",
    "    for _ in range(10):\n",
    "        print(generate_sample(model, temperature=temperatura[i], max_length=6))\n",
    "\n",
    "    print(\"\\n\")"
   ]
  },
  {
   "cell_type": "markdown",
   "metadata": {
    "id": "Zz6AlW747MiK"
   },
   "source": [
    "Для мой модели видно, что при низком показателе `temeprature` пробелы - это наиболее вероятный выход. Если повышать меру хауса, то видно, что в поэме появляется все больше и больше слов, причем складывается ощущение, что при максимальной `temeprature` генератор выдает много редких слов.\n",
    "\n"
   ]
  },
  {
   "cell_type": "markdown",
   "metadata": {
    "id": "iGB7H4rsGjdw"
   },
   "source": [
    "### Saving and loading models"
   ]
  },
  {
   "cell_type": "markdown",
   "metadata": {
    "id": "oQkfNPd_Gjdx"
   },
   "source": [
    "Save the model to the disk, then load it and generate text. Examples are available [here](https://pytorch.org/tutorials/beginner/saving_loading_models.html])."
   ]
  },
  {
   "cell_type": "code",
   "execution_count": null,
   "metadata": {
    "id": "mA5pJUbcGjdx"
   },
   "outputs": [],
   "source": [
    "def save_checkpoint(checkpoint_path, model):\n",
    "    state = {\n",
    "        'state_dict': model.state_dict()}\n",
    "    torch.save(state, checkpoint_path)\n",
    "    print('model saved to %s' % checkpoint_path)\n",
    "    \n",
    "def load_checkpoint(checkpoint_path, model):\n",
    "    state = torch.load(checkpoint_path)\n",
    "    model.load_state_dict(state['state_dict'])\n",
    "    print('model loaded from %s' % checkpoint_path)"
   ]
  },
  {
   "cell_type": "code",
   "execution_count": null,
   "metadata": {
    "id": "rcK5rELBi7KE"
   },
   "outputs": [],
   "source": [
    "save_checkpoint('LSTM.pth', model)\n",
    "save_checkpoint('vanilla_RNN.pth', char_rnn)"
   ]
  },
  {
   "cell_type": "code",
   "execution_count": null,
   "metadata": {
    "colab": {
     "base_uri": "https://localhost:8080/",
     "height": 34
    },
    "id": "ro4VkYSYi7O8",
    "outputId": "592ce454-7960-4027-b4b4-dea9de65c01c"
   },
   "outputs": [
    {
     "name": "stdout",
     "output_type": "stream",
     "text": [
      "model loaded from vanilla_RNN.pth\n"
     ]
    }
   ],
   "source": [
    "m = CharRNNCell()\n",
    "\n",
    "load_checkpoint('vanilla_RNN.pth', m)"
   ]
  },
  {
   "cell_type": "code",
   "execution_count": null,
   "metadata": {
    "id": "UsE9PFnIjMVB"
   },
   "outputs": [],
   "source": [
    "m1 = CharRNNLoop()\n",
    "\n",
    "load_checkpoint('LSTM.pth', m1)"
   ]
  },
  {
   "cell_type": "code",
   "execution_count": null,
   "metadata": {
    "colab": {
     "base_uri": "https://localhost:8080/",
     "height": 86
    },
    "id": "IEd6CYpejMaq",
    "outputId": "a0278917-bef4-4581-8906-df2d55d4e688"
   },
   "outputs": [
    {
     "name": "stdout",
     "output_type": "stream",
     "text": [
      " muns the and is froster to sers nive seeste plort,\n",
      "  of till beien wo trens toth eine do in oum pand and the thou the bsere the call tomen,\n",
      "  whise hrees the rand reth bus laven .en more iast heart wo lome priose gor magll'd of for ase for meen in beniflos batound pull, with iy sernen'd frow i cuiser for thin age thou trach not thee daply;\n",
      "                                                                                                                                                                                                                                                                                                                                                                                                                                                                                                                                                                                                                                                                                 \n"
     ]
    }
   ],
   "source": [
    "print(generate_sample(m, temperature=0.8))"
   ]
  },
  {
   "cell_type": "markdown",
   "metadata": {
    "id": "QLZ_1c6HGjdy"
   },
   "source": [
    "### References\n",
    "1. <a href='http://karpathy.github.io/2015/05/21/rnn-effectiveness/'> Andrew Karpathy blog post about RNN. </a> \n",
    "There are several examples of genration: Shakespeare texts, Latex formulas, Linux Sourse Code and children names.\n",
    "2. <a href='https://github.com/karpathy/char-rnn'> Repo with char-rnn code </a>\n",
    "3. Cool repo with PyTorch examples: [link](https://github.com/spro/practical-pytorch`)"
   ]
  }
 ],
 "metadata": {
  "anaconda-cloud": {},
  "colab": {
   "collapsed_sections": [],
   "name": "Lab3_DL_part3_poetry.ipynb",
   "provenance": []
  },
  "kernelspec": {
   "display_name": "Python 3",
   "language": "python",
   "name": "python3"
  },
  "language_info": {
   "codemirror_mode": {
    "name": "ipython",
    "version": 3
   },
   "file_extension": ".py",
   "mimetype": "text/x-python",
   "name": "python",
   "nbconvert_exporter": "python",
   "pygments_lexer": "ipython3",
   "version": "3.6.6"
  }
 },
 "nbformat": 4,
 "nbformat_minor": 1
}
